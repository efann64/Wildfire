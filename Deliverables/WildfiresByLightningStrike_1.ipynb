{
 "cells": [
  {
   "cell_type": "code",
   "execution_count": 1,
   "id": "9d510ce1",
   "metadata": {},
   "outputs": [],
   "source": [
    "import pandas as pd\n",
    "import numpy as np\n",
    "import matplotlib.pyplot as plt\n",
    "import seaborn as sns\n",
    "\n",
    "from sklearn.impute import SimpleImputer"
   ]
  },
  {
   "cell_type": "code",
   "execution_count": 20,
   "id": "4ca78c55",
   "metadata": {},
   "outputs": [],
   "source": [
    "#read the file I downloaded from https://www.kaggle.com/aestheteaman01/278k-us-wildfires-due-to-lightning-2004-2015\n",
    "fire = pd.read_csv(r'C:\\ArcGISWildfire\\WildfireProject\\Data\\US_Lightning_Forest_Fires.csv')"
   ]
  },
  {
   "cell_type": "code",
   "execution_count": 27,
   "id": "0bf7757a",
   "metadata": {},
   "outputs": [
    {
     "data": {
      "text/html": [
       "<div>\n",
       "<style scoped>\n",
       "    .dataframe tbody tr th:only-of-type {\n",
       "        vertical-align: middle;\n",
       "    }\n",
       "\n",
       "    .dataframe tbody tr th {\n",
       "        vertical-align: top;\n",
       "    }\n",
       "\n",
       "    .dataframe thead th {\n",
       "        text-align: right;\n",
       "    }\n",
       "</style>\n",
       "<table border=\"1\" class=\"dataframe\">\n",
       "  <thead>\n",
       "    <tr style=\"text-align: right;\">\n",
       "      <th></th>\n",
       "      <th>Unnamed: 0</th>\n",
       "      <th>index</th>\n",
       "      <th>FIRE_YEAR</th>\n",
       "      <th>Fire_Date</th>\n",
       "      <th>DISCOVERY_TIME</th>\n",
       "      <th>STAT_CAUSE_DESCR</th>\n",
       "      <th>Days_to_extinguish_fire</th>\n",
       "      <th>CONT_TIME</th>\n",
       "      <th>FIRE_SIZE</th>\n",
       "      <th>FIRE_SIZE_CLASS</th>\n",
       "      <th>LATITUDE</th>\n",
       "      <th>LONGITUDE</th>\n",
       "      <th>STATE</th>\n",
       "      <th>FIPS_CODE</th>\n",
       "      <th>FIPS_NAME</th>\n",
       "    </tr>\n",
       "  </thead>\n",
       "  <tbody>\n",
       "    <tr>\n",
       "      <th>0</th>\n",
       "      <td>0</td>\n",
       "      <td>1</td>\n",
       "      <td>2004</td>\n",
       "      <td>05-12-2004</td>\n",
       "      <td>845.0</td>\n",
       "      <td>Lightning</td>\n",
       "      <td>0.0</td>\n",
       "      <td>1530.0</td>\n",
       "      <td>0.25</td>\n",
       "      <td>A</td>\n",
       "      <td>38.933056</td>\n",
       "      <td>-120.404444</td>\n",
       "      <td>CA</td>\n",
       "      <td>61.0</td>\n",
       "      <td>Placer</td>\n",
       "    </tr>\n",
       "    <tr>\n",
       "      <th>1</th>\n",
       "      <td>1</td>\n",
       "      <td>3</td>\n",
       "      <td>2004</td>\n",
       "      <td>06-28-2004</td>\n",
       "      <td>1600.0</td>\n",
       "      <td>Lightning</td>\n",
       "      <td>5.0</td>\n",
       "      <td>1400.0</td>\n",
       "      <td>0.10</td>\n",
       "      <td>A</td>\n",
       "      <td>38.559167</td>\n",
       "      <td>-119.913333</td>\n",
       "      <td>CA</td>\n",
       "      <td>3.0</td>\n",
       "      <td>Alpine</td>\n",
       "    </tr>\n",
       "    <tr>\n",
       "      <th>2</th>\n",
       "      <td>2</td>\n",
       "      <td>4</td>\n",
       "      <td>2004</td>\n",
       "      <td>06-28-2004</td>\n",
       "      <td>1600.0</td>\n",
       "      <td>Lightning</td>\n",
       "      <td>5.0</td>\n",
       "      <td>1200.0</td>\n",
       "      <td>0.10</td>\n",
       "      <td>A</td>\n",
       "      <td>38.559167</td>\n",
       "      <td>-119.933056</td>\n",
       "      <td>CA</td>\n",
       "      <td>3.0</td>\n",
       "      <td>Alpine</td>\n",
       "    </tr>\n",
       "    <tr>\n",
       "      <th>3</th>\n",
       "      <td>3</td>\n",
       "      <td>5</td>\n",
       "      <td>2004</td>\n",
       "      <td>06-30-2004</td>\n",
       "      <td>1800.0</td>\n",
       "      <td>Lightning</td>\n",
       "      <td>1.0</td>\n",
       "      <td>1600.0</td>\n",
       "      <td>0.10</td>\n",
       "      <td>A</td>\n",
       "      <td>38.635278</td>\n",
       "      <td>-120.103611</td>\n",
       "      <td>CA</td>\n",
       "      <td>5.0</td>\n",
       "      <td>Amador</td>\n",
       "    </tr>\n",
       "    <tr>\n",
       "      <th>4</th>\n",
       "      <td>4</td>\n",
       "      <td>6</td>\n",
       "      <td>2004</td>\n",
       "      <td>07-01-2004</td>\n",
       "      <td>1800.0</td>\n",
       "      <td>Lightning</td>\n",
       "      <td>1.0</td>\n",
       "      <td>1400.0</td>\n",
       "      <td>0.10</td>\n",
       "      <td>A</td>\n",
       "      <td>38.688333</td>\n",
       "      <td>-120.153333</td>\n",
       "      <td>CA</td>\n",
       "      <td>17.0</td>\n",
       "      <td>El Dorado</td>\n",
       "    </tr>\n",
       "    <tr>\n",
       "      <th>5</th>\n",
       "      <td>5</td>\n",
       "      <td>9</td>\n",
       "      <td>2004</td>\n",
       "      <td>07-01-2004</td>\n",
       "      <td>1800.0</td>\n",
       "      <td>Lightning</td>\n",
       "      <td>1.0</td>\n",
       "      <td>1800.0</td>\n",
       "      <td>0.10</td>\n",
       "      <td>A</td>\n",
       "      <td>38.548333</td>\n",
       "      <td>-120.149167</td>\n",
       "      <td>CA</td>\n",
       "      <td>5.0</td>\n",
       "      <td>Amador</td>\n",
       "    </tr>\n",
       "    <tr>\n",
       "      <th>6</th>\n",
       "      <td>6</td>\n",
       "      <td>10</td>\n",
       "      <td>2004</td>\n",
       "      <td>07-02-2004</td>\n",
       "      <td>1830.0</td>\n",
       "      <td>Lightning</td>\n",
       "      <td>1.0</td>\n",
       "      <td>1900.0</td>\n",
       "      <td>0.10</td>\n",
       "      <td>A</td>\n",
       "      <td>38.691667</td>\n",
       "      <td>-120.159722</td>\n",
       "      <td>CA</td>\n",
       "      <td>17.0</td>\n",
       "      <td>El Dorado</td>\n",
       "    </tr>\n",
       "    <tr>\n",
       "      <th>7</th>\n",
       "      <td>7</td>\n",
       "      <td>11</td>\n",
       "      <td>2004</td>\n",
       "      <td>07-02-2004</td>\n",
       "      <td>1730.0</td>\n",
       "      <td>Lightning</td>\n",
       "      <td>1.0</td>\n",
       "      <td>2000.0</td>\n",
       "      <td>0.10</td>\n",
       "      <td>A</td>\n",
       "      <td>38.527500</td>\n",
       "      <td>-120.106111</td>\n",
       "      <td>CA</td>\n",
       "      <td>5.0</td>\n",
       "      <td>Amador</td>\n",
       "    </tr>\n",
       "    <tr>\n",
       "      <th>8</th>\n",
       "      <td>8</td>\n",
       "      <td>14</td>\n",
       "      <td>2004</td>\n",
       "      <td>10-03-2004</td>\n",
       "      <td>630.0</td>\n",
       "      <td>Lightning</td>\n",
       "      <td>0.0</td>\n",
       "      <td>1500.0</td>\n",
       "      <td>0.20</td>\n",
       "      <td>A</td>\n",
       "      <td>38.675833</td>\n",
       "      <td>-120.279722</td>\n",
       "      <td>CA</td>\n",
       "      <td>17.0</td>\n",
       "      <td>El Dorado</td>\n",
       "    </tr>\n",
       "    <tr>\n",
       "      <th>9</th>\n",
       "      <td>9</td>\n",
       "      <td>15</td>\n",
       "      <td>2004</td>\n",
       "      <td>10-03-2004</td>\n",
       "      <td>930.0</td>\n",
       "      <td>Lightning</td>\n",
       "      <td>0.0</td>\n",
       "      <td>1400.0</td>\n",
       "      <td>0.10</td>\n",
       "      <td>A</td>\n",
       "      <td>38.564167</td>\n",
       "      <td>-120.542222</td>\n",
       "      <td>CA</td>\n",
       "      <td>17.0</td>\n",
       "      <td>El Dorado</td>\n",
       "    </tr>\n",
       "  </tbody>\n",
       "</table>\n",
       "</div>"
      ],
      "text/plain": [
       "   Unnamed: 0  index  FIRE_YEAR   Fire_Date  DISCOVERY_TIME STAT_CAUSE_DESCR  \\\n",
       "0           0      1       2004  05-12-2004           845.0        Lightning   \n",
       "1           1      3       2004  06-28-2004          1600.0        Lightning   \n",
       "2           2      4       2004  06-28-2004          1600.0        Lightning   \n",
       "3           3      5       2004  06-30-2004          1800.0        Lightning   \n",
       "4           4      6       2004  07-01-2004          1800.0        Lightning   \n",
       "5           5      9       2004  07-01-2004          1800.0        Lightning   \n",
       "6           6     10       2004  07-02-2004          1830.0        Lightning   \n",
       "7           7     11       2004  07-02-2004          1730.0        Lightning   \n",
       "8           8     14       2004  10-03-2004           630.0        Lightning   \n",
       "9           9     15       2004  10-03-2004           930.0        Lightning   \n",
       "\n",
       "   Days_to_extinguish_fire  CONT_TIME  FIRE_SIZE FIRE_SIZE_CLASS   LATITUDE  \\\n",
       "0                      0.0     1530.0       0.25               A  38.933056   \n",
       "1                      5.0     1400.0       0.10               A  38.559167   \n",
       "2                      5.0     1200.0       0.10               A  38.559167   \n",
       "3                      1.0     1600.0       0.10               A  38.635278   \n",
       "4                      1.0     1400.0       0.10               A  38.688333   \n",
       "5                      1.0     1800.0       0.10               A  38.548333   \n",
       "6                      1.0     1900.0       0.10               A  38.691667   \n",
       "7                      1.0     2000.0       0.10               A  38.527500   \n",
       "8                      0.0     1500.0       0.20               A  38.675833   \n",
       "9                      0.0     1400.0       0.10               A  38.564167   \n",
       "\n",
       "    LONGITUDE STATE  FIPS_CODE  FIPS_NAME  \n",
       "0 -120.404444    CA       61.0     Placer  \n",
       "1 -119.913333    CA        3.0     Alpine  \n",
       "2 -119.933056    CA        3.0     Alpine  \n",
       "3 -120.103611    CA        5.0     Amador  \n",
       "4 -120.153333    CA       17.0  El Dorado  \n",
       "5 -120.149167    CA        5.0     Amador  \n",
       "6 -120.159722    CA       17.0  El Dorado  \n",
       "7 -120.106111    CA        5.0     Amador  \n",
       "8 -120.279722    CA       17.0  El Dorado  \n",
       "9 -120.542222    CA       17.0  El Dorado  "
      ]
     },
     "execution_count": 27,
     "metadata": {},
     "output_type": "execute_result"
    }
   ],
   "source": [
    "#look at the first 10 lines to see what sort of data we have\n",
    "fire.head(10)"
   ]
  },
  {
   "cell_type": "code",
   "execution_count": 28,
   "id": "313fb14f",
   "metadata": {},
   "outputs": [
    {
     "name": "stdout",
     "output_type": "stream",
     "text": [
      "<class 'pandas.core.frame.DataFrame'>\n",
      "RangeIndex: 278468 entries, 0 to 278467\n",
      "Data columns (total 15 columns):\n",
      " #   Column                   Non-Null Count   Dtype  \n",
      "---  ------                   --------------   -----  \n",
      " 0   Unnamed: 0               278468 non-null  int64  \n",
      " 1   index                    278468 non-null  int64  \n",
      " 2   FIRE_YEAR                278468 non-null  int64  \n",
      " 3   Fire_Date                278468 non-null  object \n",
      " 4   DISCOVERY_TIME           228272 non-null  float64\n",
      " 5   STAT_CAUSE_DESCR         278468 non-null  object \n",
      " 6   Days_to_extinguish_fire  227876 non-null  float64\n",
      " 7   CONT_TIME                220068 non-null  float64\n",
      " 8   FIRE_SIZE                278468 non-null  float64\n",
      " 9   FIRE_SIZE_CLASS          278468 non-null  object \n",
      " 10  LATITUDE                 278468 non-null  float64\n",
      " 11  LONGITUDE                278468 non-null  float64\n",
      " 12  STATE                    278468 non-null  object \n",
      " 13  FIPS_CODE                156911 non-null  float64\n",
      " 14  FIPS_NAME                156911 non-null  object \n",
      "dtypes: float64(7), int64(3), object(5)\n",
      "memory usage: 31.9+ MB\n"
     ]
    }
   ],
   "source": [
    "#brief overview of the entire dataset including columns, column type and non null count for what % of data is present in each\n",
    "fire.info()"
   ]
  },
  {
   "cell_type": "code",
   "execution_count": 29,
   "id": "5c13a937",
   "metadata": {},
   "outputs": [
    {
     "data": {
      "text/plain": [
       "0.0      122018\n",
       "1.0       58263\n",
       "2.0       15725\n",
       "3.0        6719\n",
       "4.0        3900\n",
       "          ...  \n",
       "187.0         1\n",
       "170.0         1\n",
       "230.0         1\n",
       "262.0         1\n",
       "163.0         1\n",
       "Name: Days_to_extinguish_fire, Length: 210, dtype: int64"
      ]
     },
     "execution_count": 29,
     "metadata": {},
     "output_type": "execute_result"
    }
   ],
   "source": [
    "#Count of fires that took x number of days to be extinguished\n",
    "fire['Days_to_extinguish_fire'].value_counts()"
   ]
  },
  {
   "cell_type": "code",
   "execution_count": 37,
   "id": "601d2ad1",
   "metadata": {},
   "outputs": [
    {
     "data": {
      "text/plain": [
       "<AxesSubplot:>"
      ]
     },
     "execution_count": 37,
     "metadata": {},
     "output_type": "execute_result"
    },
    {
     "data": {
      "image/png": "[encoded data removed]",
      "text/plain": [
       "<Figure size 432x288 with 1 Axes>"
      ]
     },
     "metadata": {
      "needs_background": "light"
     },
     "output_type": "display_data"
    }
   ],
   "source": [
    "#bar chart to visualize how many days lightning strike fires took to put out- this graph has EVERYTHING and it's hard to visualize\n",
    "fire['Days_to_extinguish_fire'].value_counts().plot(kind='barh')\n"
   ]
  },
  {
   "cell_type": "code",
   "execution_count": 39,
   "id": "5561a17b",
   "metadata": {},
   "outputs": [
    {
     "data": {
      "text/plain": [
       "<AxesSubplot:>"
      ]
     },
     "execution_count": 39,
     "metadata": {},
     "output_type": "execute_result"
    },
    {
     "data": {
      "image/png": "[encoded data removed]",
      "text/plain": [
       "<Figure size 432x288 with 1 Axes>"
      ]
     },
     "metadata": {
      "needs_background": "light"
     },
     "output_type": "display_data"
    }
   ],
   "source": [
    "#looking at a bar chart with counts of fires taking between 0 and 10 days to put out\n",
    "fire['Days_to_extinguish_fire'].value_counts()[:10].plot(kind='barh')"
   ]
  },
  {
   "cell_type": "code",
   "execution_count": 42,
   "id": "0cb9fe71",
   "metadata": {},
   "outputs": [
    {
     "name": "stdout",
     "output_type": "stream",
     "text": [
      "Counter({'OR': 31556, 'AZ': 28776, 'CA': 27000, 'FL': 21806, 'ID': 21291, 'CO': 19945, 'NM': 18006, 'MT': 17635, 'UT': 16747, 'NV': 11174, 'WA': 9694, 'GA': 7748, 'TX': 6797, 'WY': 6461, 'SD': 5294, 'NY': 5246, 'AK': 4108, 'LA': 2893, 'AR': 2087, 'SC': 1996, 'NC': 1934, 'OK': 1401, 'AL': 1320, 'VA': 1065, 'NE': 1030, 'MN': 959, 'WI': 681, 'MS': 551, 'MI': 514, 'TN': 445, 'ND': 418, 'ME': 336, 'WV': 265, 'NJ': 208, 'KS': 203, 'MO': 164, 'PA': 148, 'KY': 128, 'MD': 124, 'MA': 88, 'NH': 82, 'IL': 33, 'IN': 30, 'OH': 17, 'CT': 17, 'IA': 16, 'DE': 10, 'VT': 9, 'HI': 9, 'PR': 2, 'DC': 1})\n"
     ]
    }
   ],
   "source": [
    "#Now we will look at where these lightning strike wildfires are by state; count of lightning strike wildfires by state\n",
    "from collections import Counter\n",
    "print(Counter(fire['STATE']))"
   ]
  },
  {
   "cell_type": "markdown",
   "id": "f1caf219",
   "metadata": {},
   "source": []
  },
  {
   "cell_type": "code",
   "execution_count": 44,
   "id": "28b88ac8",
   "metadata": {},
   "outputs": [
    {
     "name": "stdout",
     "output_type": "stream",
     "text": [
      "       Unnamed: 0  index  FIRE_YEAR  Fire_Date  DISCOVERY_TIME  \\\n",
      "STATE                                                            \n",
      "AK           4108   4108       4108       4108            3208   \n",
      "AL           1320   1320       1320       1320             740   \n",
      "AR           2087   2087       2087       2087            1248   \n",
      "AZ          28776  28776      28776      28776           28479   \n",
      "CA          27000  27000      27000      27000           24100   \n",
      "CO          19945  19945      19945      19945           19437   \n",
      "CT             17     17         17         17              15   \n",
      "DC              1      1          1          1               1   \n",
      "DE             10     10         10         10               0   \n",
      "FL          21806  21806      21806      21806            7437   \n",
      "GA           7748   7748       7748       7748            4673   \n",
      "HI              9      9          9          9               8   \n",
      "IA             16     16         16         16               1   \n",
      "ID          21291  21291      21291      21291           21096   \n",
      "IL             33     33         33         33              24   \n",
      "IN             30     30         30         30              14   \n",
      "KS            203    203        203        203             147   \n",
      "KY            128    128        128        128              92   \n",
      "LA           2893   2893       2893       2893            1075   \n",
      "MA             88     88         88         88              60   \n",
      "MD            124    124        124        124              40   \n",
      "ME            336    336        336        336             217   \n",
      "MI            514    514        514        514             346   \n",
      "MN            959    959        959        959             556   \n",
      "MO            164    164        164        164             130   \n",
      "MS            551    551        551        551             458   \n",
      "MT          17635  17635      17635      17635           16164   \n",
      "NC           1934   1934       1934       1934             616   \n",
      "ND            418    418        418        418             397   \n",
      "NE           1030   1030       1030       1030             786   \n",
      "NH             82     82         82         82              18   \n",
      "NJ            208    208        208        208              33   \n",
      "NM          18006  18006      18006      18006           16166   \n",
      "NV          11174  11174      11174      11174           11161   \n",
      "NY           5246   5246       5246       5246            4504   \n",
      "OH             17     17         17         17               6   \n",
      "OK           1401   1401       1401       1401             644   \n",
      "OR          31556  31556      31556      31556           26496   \n",
      "PA            148    148        148        148              93   \n",
      "PR              2      2          2          2               1   \n",
      "SC           1996   1996       1996       1996             586   \n",
      "SD           5294   5294       5294       5294            3124   \n",
      "TN            445    445        445        445             321   \n",
      "TX           6797   6797       6797       6797            1876   \n",
      "UT          16747  16747      16747      16747           16707   \n",
      "VA           1065   1065       1065       1065             313   \n",
      "VT              9      9          9          9               3   \n",
      "WA           9694   9694       9694       9694            7770   \n",
      "WI            681    681        681        681             265   \n",
      "WV            265    265        265        265             189   \n",
      "WY           6461   6461       6461       6461            6431   \n",
      "\n",
      "       STAT_CAUSE_DESCR  Days_to_extinguish_fire  CONT_TIME  FIRE_SIZE  \\\n",
      "STATE                                                                    \n",
      "AK                 4108                     3564       3174       4108   \n",
      "AL                 1320                      799        649       1320   \n",
      "AR                 2087                     1143       1095       2087   \n",
      "AZ                28776                    27579      27466      28776   \n",
      "CA                27000                    23020      22960      27000   \n",
      "CO                19945                    19163      19111      19945   \n",
      "CT                   17                        0          0         17   \n",
      "DC                    1                        1          1          1   \n",
      "DE                   10                        2          2         10   \n",
      "FL                21806                     6824       6606      21806   \n",
      "GA                 7748                     4535       4453       7748   \n",
      "HI                    9                        8          8          9   \n",
      "IA                   16                       10          1         16   \n",
      "ID                21291                    20648      20493      21291   \n",
      "IL                   33                       22         22         33   \n",
      "IN                   30                       15         13         30   \n",
      "KS                  203                      168        136        203   \n",
      "KY                  128                       74         73        128   \n",
      "LA                 2893                      269        262       2893   \n",
      "MA                   88                       67         19         88   \n",
      "MD                  124                       39         38        124   \n",
      "ME                  336                      213        193        336   \n",
      "MI                  514                      346        264        514   \n",
      "MN                  959                      554        542        959   \n",
      "MO                  164                       72         72        164   \n",
      "MS                  551                      307        297        551   \n",
      "MT                17635                    15945      15805      17635   \n",
      "NC                 1934                      588        573       1934   \n",
      "ND                  418                      371        368        418   \n",
      "NE                 1030                      772        749       1030   \n",
      "NH                   82                       19         17         82   \n",
      "NJ                  208                       35         25        208   \n",
      "NM                18006                    15907      15813      18006   \n",
      "NV                11174                    11127      11077      11174   \n",
      "NY                 5246                     4540       4299       5246   \n",
      "OH                   17                        6          6         17   \n",
      "OK                 1401                      646        626       1401   \n",
      "OR                31556                    31329      26108      31556   \n",
      "PA                  148                       95         91        148   \n",
      "PR                    2                        2          1          2   \n",
      "SC                 1996                      571        565       1996   \n",
      "SD                 5294                     3088       3075       5294   \n",
      "TN                  445                      323        285        445   \n",
      "TX                 6797                     1761       1707       6797   \n",
      "UT                16747                    16567      16494      16747   \n",
      "VA                 1065                      285        265       1065   \n",
      "VT                    9                        5          3          9   \n",
      "WA                 9694                     7738       7590       9694   \n",
      "WI                  681                      271        262        681   \n",
      "WV                  265                      200        189        265   \n",
      "WY                 6461                     6243       6125       6461   \n",
      "\n",
      "       FIRE_SIZE_CLASS  LATITUDE  LONGITUDE  FIPS_CODE  FIPS_NAME  \n",
      "STATE                                                              \n",
      "AK                4108      4108       4108         94         94  \n",
      "AL                1320      1320       1320        760        760  \n",
      "AR                2087      2087       2087       1335       1335  \n",
      "AZ               28776     28776      28776      12150      12150  \n",
      "CA               27000     27000      27000       9489       9489  \n",
      "CO               19945     19945      19945      10292      10292  \n",
      "CT                  17        17         17         17         17  \n",
      "DC                   1         1          1          0          0  \n",
      "DE                  10        10         10          2          2  \n",
      "FL               21806     21806      21806      19227      19227  \n",
      "GA                7748      7748       7748       6596       6596  \n",
      "HI                   9         9          9          2          2  \n",
      "IA                  16        16         16         15         15  \n",
      "ID               21291     21291      21291      11809      11809  \n",
      "IL                  33        33         33         19         19  \n",
      "IN                  30        30         30          7          7  \n",
      "KS                 203       203        203         91         91  \n",
      "KY                 128       128        128         82         82  \n",
      "LA                2893      2893       2893       1939       1939  \n",
      "MA                  88        88         88         67         67  \n",
      "MD                 124       124        124         97         97  \n",
      "ME                 336       336        336        308        308  \n",
      "MI                 514       514        514        430        430  \n",
      "MN                 959       959        959        676        676  \n",
      "MO                 164       164        164         99         99  \n",
      "MS                 551       551        551        255        255  \n",
      "MT               17635     17635      17635       9316       9316  \n",
      "NC                1934      1934       1934        643        643  \n",
      "ND                 418       418        418        144        144  \n",
      "NE                1030      1030       1030        102        102  \n",
      "NH                  82        82         82         67         67  \n",
      "NJ                 208       208        208        205        205  \n",
      "NM               18006     18006      18006       8775       8775  \n",
      "NV               11174     11174      11174       7553       7553  \n",
      "NY                5246      5246       5246       5239       5239  \n",
      "OH                  17        17         17         14         14  \n",
      "OK                1401      1401       1401        329        329  \n",
      "OR               31556     31556      31556      18239      18239  \n",
      "PA                 148       148        148        111        111  \n",
      "PR                   2         2          2          0          0  \n",
      "SC                1996      1996       1996       1166       1166  \n",
      "SD                5294      5294       5294        984        984  \n",
      "TN                 445       445        445        297        297  \n",
      "TX                6797      6797       6797       6121       6121  \n",
      "UT               16747     16747      16747      10649      10649  \n",
      "VA                1065      1065       1065        601        601  \n",
      "VT                   9         9          9          5          5  \n",
      "WA                9694      9694       9694       6175       6175  \n",
      "WI                 681       681        681        585        585  \n",
      "WV                 265       265        265        246        246  \n",
      "WY                6461      6461       6461       3487       3487  \n"
     ]
    }
   ],
   "source": [
    "#Grouping our data by the number of values in each column by state\n",
    "State = fire.groupby('STATE').agg('count')\n",
    "print(State)"
   ]
  },
  {
   "cell_type": "code",
   "execution_count": 48,
   "id": "1e5d3217",
   "metadata": {},
   "outputs": [],
   "source": [
    "#prepping to create a pie chart to understand what percentage of all lighning strike fires from 2004-2015\n",
    "type_labels = State.Fire_Date.sort_values().index \n",
    "type_counts = State.Fire_Date.sort_values()"
   ]
  },
  {
   "cell_type": "code",
   "execution_count": 70,
   "id": "cb86215d",
   "metadata": {},
   "outputs": [
    {
     "data": {
      "text/plain": [
       "<Figure size 1440x720 with 0 Axes>"
      ]
     },
     "metadata": {},
     "output_type": "display_data"
    }
   ],
   "source": [
    "import matplotlib.ticker as ticker\n",
    "import matplotlib.cm as cm\n",
    "import matplotlib as mpl\n",
    "from matplotlib.gridspec import GridSpec\n",
    "plt.figure(1, figsize=(20,10)) \n",
    "the_grid = GridSpec(2, 2)"
   ]
  },
  {
   "cell_type": "code",
   "execution_count": 71,
   "id": "72cafb3d",
   "metadata": {},
   "outputs": [],
   "source": [
    "cmap = plt.get_cmap('Spectral')\n",
    "colors = [cmap(i) for i in np.linspace(0, 1, 10)]"
   ]
  },
  {
   "cell_type": "code",
   "execution_count": 73,
   "id": "1bb724e2",
   "metadata": {},
   "outputs": [
    {
     "data": {
      "image/png": "[encoded data removed]",
      "text/plain": [
       "<Figure size 432x288 with 1 Axes>"
      ]
     },
     "metadata": {},
     "output_type": "display_data"
    }
   ],
   "source": [
    "plt.subplot(the_grid[0, 1], aspect=1, title='Wildfires Cause by Lightning Strikes by State from 2004-2015')\n",
    "State = plt.pie(type_counts, labels=type_labels, autopct='%1.1f%%', shadow=True, colors=colors)\n",
    "plt.show()"
   ]
  },
  {
   "cell_type": "code",
   "execution_count": null,
   "id": "a51575a5",
   "metadata": {},
   "outputs": [],
   "source": []
  }
 ],
 "metadata": {
  "kernelspec": {
   "display_name": "Python 3",
   "language": "python",
   "name": "python3"
  },
  "language_info": {
   "codemirror_mode": {
    "name": "ipython",
    "version": 3
   },
   "file_extension": ".py",
   "mimetype": "text/x-python",
   "name": "python",
   "nbconvert_exporter": "python",
   "pygments_lexer": "ipython3",
   "version": "3.8.8"
  }
 },
 "nbformat": 4,
 "nbformat_minor": 5
}
